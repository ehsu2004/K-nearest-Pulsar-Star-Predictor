{
 "cells": [
  {
   "cell_type": "code",
   "execution_count": 5,
   "id": "8648a729-2f86-4071-8c6b-8069a9f8a590",
   "metadata": {},
   "outputs": [
    {
     "name": "stdout",
     "output_type": "stream",
     "text": [
      "[1] \"Group-005-9:Ethan Hsu\"\n"
     ]
    }
   ],
   "source": [
    "print(\"Group-005-9:Ethan Hsu\")"
   ]
  },
  {
   "cell_type": "code",
   "execution_count": 6,
   "id": "c9056606-f93e-4a04-bf95-390451eca056",
   "metadata": {},
   "outputs": [
    {
     "name": "stdout",
     "output_type": "stream",
     "text": [
      "Group-005-9: Ethan Hsu"
     ]
    }
   ],
   "source": [
    "cat(\"Group-005-9: Ethan Hsu\")"
   ]
  },
  {
   "cell_type": "code",
   "execution_count": null,
   "id": "232e67a3-ff73-4185-8290-8399a7365a0e",
   "metadata": {},
   "outputs": [],
   "source": []
  },
  {
   "cell_type": "code",
   "execution_count": null,
   "id": "05569d02-b898-4b92-ac19-0f34bd6ca77e",
   "metadata": {},
   "outputs": [],
   "source": []
  }
 ],
 "metadata": {
  "kernelspec": {
   "display_name": "R",
   "language": "R",
   "name": "ir"
  },
  "language_info": {
   "codemirror_mode": "r",
   "file_extension": ".r",
   "mimetype": "text/x-r-source",
   "name": "R",
   "pygments_lexer": "r",
   "version": "4.3.1"
  }
 },
 "nbformat": 4,
 "nbformat_minor": 5
}
