{
 "cells": [
  {
   "cell_type": "markdown",
   "id": "6ea5e257-cc47-4d4b-9c9d-4d42f521225c",
   "metadata": {},
   "source": [
    "*Group-005-9: Ethan Hsu,*"
   ]
  },
  {
   "cell_type": "markdown",
   "id": "19d7c6fa-bb73-47a3-ba22-7e8603cc477a",
   "metadata": {},
   "source": [
    "# Pulsare Star Predictor"
   ]
  },
  {
   "cell_type": "markdown",
   "id": "f69b4042-1a87-47e1-a33e-74de5cca1af9",
   "metadata": {},
   "source": [
    "## Introduction:\n",
    "A pulsar star is a rare, rapidly rotating neutron star that emits beams of electromagnetic radiation out of its magnetic poles. The electromagnetic waves produced are a detectable pattern of broadband radio emission. However, the radio frequency interferences and radio noise can trigger detectors and mimic the pulsar star making it very challenging to detect a pulsar. We will be using the HTRU2 data set collected during the High Time Resolution Universe Survey containing 17898 examples of which 1639 are real pulsar examples. Observations are described by 8 different variables, and a class variable, the first 4 are mean, standard deviation, excess kurtosis and skewness of the integrated profile. The last 4 are the same but from the DM-SNR curve. We will use our prediction model to determine how accurately we can predict a signal to be from a pulsar star or not.\n",
    "## Preliminary Exploratory Data Analysis:\n",
    "Start by loading the libraries\n",
    "\n"
   ]
  },
  {
   "cell_type": "code",
   "execution_count": 1,
   "id": "96dc5433-6656-403c-9d38-c494b63c258c",
   "metadata": {},
   "outputs": [
    {
     "name": "stderr",
     "output_type": "stream",
     "text": [
      "── \u001b[1mAttaching core tidyverse packages\u001b[22m ──────────────────────── tidyverse 2.0.0 ──\n",
      "\u001b[32m✔\u001b[39m \u001b[34mdplyr    \u001b[39m 1.1.3     \u001b[32m✔\u001b[39m \u001b[34mreadr    \u001b[39m 2.1.4\n",
      "\u001b[32m✔\u001b[39m \u001b[34mforcats  \u001b[39m 1.0.0     \u001b[32m✔\u001b[39m \u001b[34mstringr  \u001b[39m 1.5.0\n",
      "\u001b[32m✔\u001b[39m \u001b[34mggplot2  \u001b[39m 3.4.4     \u001b[32m✔\u001b[39m \u001b[34mtibble   \u001b[39m 3.2.1\n",
      "\u001b[32m✔\u001b[39m \u001b[34mlubridate\u001b[39m 1.9.3     \u001b[32m✔\u001b[39m \u001b[34mtidyr    \u001b[39m 1.3.0\n",
      "\u001b[32m✔\u001b[39m \u001b[34mpurrr    \u001b[39m 1.0.2     \n",
      "── \u001b[1mConflicts\u001b[22m ────────────────────────────────────────── tidyverse_conflicts() ──\n",
      "\u001b[31m✖\u001b[39m \u001b[34mdplyr\u001b[39m::\u001b[32mfilter()\u001b[39m masks \u001b[34mstats\u001b[39m::filter()\n",
      "\u001b[31m✖\u001b[39m \u001b[34mdplyr\u001b[39m::\u001b[32mlag()\u001b[39m    masks \u001b[34mstats\u001b[39m::lag()\n",
      "\u001b[36mℹ\u001b[39m Use the conflicted package (\u001b[3m\u001b[34m<http://conflicted.r-lib.org/>\u001b[39m\u001b[23m) to force all conflicts to become errors\n",
      "── \u001b[1mAttaching packages\u001b[22m ────────────────────────────────────── tidymodels 1.1.1 ──\n",
      "\n",
      "\u001b[32m✔\u001b[39m \u001b[34mbroom       \u001b[39m 1.0.5     \u001b[32m✔\u001b[39m \u001b[34mrsample     \u001b[39m 1.2.0\n",
      "\u001b[32m✔\u001b[39m \u001b[34mdials       \u001b[39m 1.2.0     \u001b[32m✔\u001b[39m \u001b[34mtune        \u001b[39m 1.1.2\n",
      "\u001b[32m✔\u001b[39m \u001b[34minfer       \u001b[39m 1.0.5     \u001b[32m✔\u001b[39m \u001b[34mworkflows   \u001b[39m 1.1.3\n",
      "\u001b[32m✔\u001b[39m \u001b[34mmodeldata   \u001b[39m 1.2.0     \u001b[32m✔\u001b[39m \u001b[34mworkflowsets\u001b[39m 1.0.1\n",
      "\u001b[32m✔\u001b[39m \u001b[34mparsnip     \u001b[39m 1.1.1     \u001b[32m✔\u001b[39m \u001b[34myardstick   \u001b[39m 1.2.0\n",
      "\u001b[32m✔\u001b[39m \u001b[34mrecipes     \u001b[39m 1.0.8     \n",
      "\n",
      "── \u001b[1mConflicts\u001b[22m ───────────────────────────────────────── tidymodels_conflicts() ──\n",
      "\u001b[31m✖\u001b[39m \u001b[34mscales\u001b[39m::\u001b[32mdiscard()\u001b[39m masks \u001b[34mpurrr\u001b[39m::discard()\n",
      "\u001b[31m✖\u001b[39m \u001b[34mdplyr\u001b[39m::\u001b[32mfilter()\u001b[39m   masks \u001b[34mstats\u001b[39m::filter()\n",
      "\u001b[31m✖\u001b[39m \u001b[34mrecipes\u001b[39m::\u001b[32mfixed()\u001b[39m  masks \u001b[34mstringr\u001b[39m::fixed()\n",
      "\u001b[31m✖\u001b[39m \u001b[34mdplyr\u001b[39m::\u001b[32mlag()\u001b[39m      masks \u001b[34mstats\u001b[39m::lag()\n",
      "\u001b[31m✖\u001b[39m \u001b[34myardstick\u001b[39m::\u001b[32mspec()\u001b[39m masks \u001b[34mreadr\u001b[39m::spec()\n",
      "\u001b[31m✖\u001b[39m \u001b[34mrecipes\u001b[39m::\u001b[32mstep()\u001b[39m   masks \u001b[34mstats\u001b[39m::step()\n",
      "\u001b[34m•\u001b[39m Search for functions across packages at \u001b[32mhttps://www.tidymodels.org/find/\u001b[39m\n",
      "\n",
      "Warning message:\n",
      "“package ‘cowplot’ was built under R version 4.3.2”\n",
      "\n",
      "Attaching package: ‘cowplot’\n",
      "\n",
      "\n",
      "The following object is masked from ‘package:lubridate’:\n",
      "\n",
      "    stamp\n",
      "\n",
      "\n",
      "Warning message:\n",
      "“package ‘GGally’ was built under R version 4.3.2”\n",
      "Registered S3 method overwritten by 'GGally':\n",
      "  method from   \n",
      "  +.gg   ggplot2\n",
      "\n"
     ]
    }
   ],
   "source": [
    "library(tidyverse)\n",
    "library(repr)\n",
    "library(tidymodels)\n",
    "library(cowplot)\n",
    "library(GGally)\n",
    "options(repr.matrix.max.rows = 6)"
   ]
  },
  {
   "cell_type": "markdown",
   "id": "45e5788a-97ad-4282-b524-ff6916f7e300",
   "metadata": {},
   "source": [
    "Read dataset from the web into R"
   ]
  },
  {
   "cell_type": "code",
   "execution_count": 2,
   "id": "55749eb2-5606-4a28-ad0c-81cea4554b7e",
   "metadata": {},
   "outputs": [
    {
     "name": "stderr",
     "output_type": "stream",
     "text": [
      "\u001b[1mRows: \u001b[22m\u001b[34m17898\u001b[39m \u001b[1mColumns: \u001b[22m\u001b[34m9\u001b[39m\n",
      "\u001b[36m──\u001b[39m \u001b[1mColumn specification\u001b[22m \u001b[36m────────────────────────────────────────────────────────\u001b[39m\n",
      "\u001b[1mDelimiter:\u001b[22m \",\"\n",
      "\u001b[32mdbl\u001b[39m (9): X1, X2, X3, X4, X5, X6, X7, X8, X9\n",
      "\n",
      "\u001b[36mℹ\u001b[39m Use `spec()` to retrieve the full column specification for this data.\n",
      "\u001b[36mℹ\u001b[39m Specify the column types or set `show_col_types = FALSE` to quiet this message.\n"
     ]
    }
   ],
   "source": [
    "pulsar_data<-read_csv(\"https://raw.githubusercontent.com/ehsu2004/K-nearest-Pulsar-Star-Predictor/main/htru2/HTRU_2.csv\", col_names=FALSE)"
   ]
  },
  {
   "cell_type": "markdown",
   "id": "7cc53f67-94af-4e14-a5d3-04e45a9e8c52",
   "metadata": {},
   "source": [
    "## Cleaning and Wrangling the data into a tidy format:\n",
    "Add column names"
   ]
  },
  {
   "cell_type": "code",
   "execution_count": 3,
   "id": "03f90b81-643c-42ee-954d-aecbff06fb71",
   "metadata": {},
   "outputs": [],
   "source": [
    "colnames(pulsar_data)<-c(\"mean_profile\",\n",
    "                         \"deviation_profile\",\n",
    "                         \"kurtosis_profile\",\n",
    "                         \"skewness_profile\",\n",
    "                         \"mean_curve\",\n",
    "                         \"deviation_curve\",\n",
    "                         \"kurtosis_curve\",\n",
    "                         \"skewness_curve\",\n",
    "                         \"class\")"
   ]
  },
  {
   "cell_type": "markdown",
   "id": "8515ac0b-b9ef-490a-a020-7e27f3badd35",
   "metadata": {},
   "source": [
    "Factoring the `class` variable and renaming its values"
   ]
  },
  {
   "cell_type": "code",
   "execution_count": 4,
   "id": "074d5577-94c3-44fe-8773-6b991f2e4a11",
   "metadata": {},
   "outputs": [
    {
     "data": {
      "text/html": [
       "<table class=\"dataframe\">\n",
       "<caption>A tibble: 17898 × 9</caption>\n",
       "<thead>\n",
       "\t<tr><th scope=col>mean_profile</th><th scope=col>deviation_profile</th><th scope=col>kurtosis_profile</th><th scope=col>skewness_profile</th><th scope=col>mean_curve</th><th scope=col>deviation_curve</th><th scope=col>kurtosis_curve</th><th scope=col>skewness_curve</th><th scope=col>class</th></tr>\n",
       "\t<tr><th scope=col>&lt;dbl&gt;</th><th scope=col>&lt;dbl&gt;</th><th scope=col>&lt;dbl&gt;</th><th scope=col>&lt;dbl&gt;</th><th scope=col>&lt;dbl&gt;</th><th scope=col>&lt;dbl&gt;</th><th scope=col>&lt;dbl&gt;</th><th scope=col>&lt;dbl&gt;</th><th scope=col>&lt;fct&gt;</th></tr>\n",
       "</thead>\n",
       "<tbody>\n",
       "\t<tr><td>140.5625</td><td>55.68378</td><td>-0.2345714</td><td>-0.6996484</td><td>3.199833</td><td>19.11043</td><td> 7.975532</td><td> 74.24222</td><td>non_pulsar</td></tr>\n",
       "\t<tr><td>102.5078</td><td>58.88243</td><td> 0.4653182</td><td>-0.5150879</td><td>1.677258</td><td>14.86015</td><td>10.576487</td><td>127.39358</td><td>non_pulsar</td></tr>\n",
       "\t<tr><td>103.0156</td><td>39.34165</td><td> 0.3233284</td><td> 1.0511644</td><td>3.121237</td><td>21.74467</td><td> 7.735822</td><td> 63.17191</td><td>non_pulsar</td></tr>\n",
       "\t<tr><td>⋮</td><td>⋮</td><td>⋮</td><td>⋮</td><td>⋮</td><td>⋮</td><td>⋮</td><td>⋮</td><td>⋮</td></tr>\n",
       "\t<tr><td>119.3359</td><td>59.93594</td><td>0.1593631</td><td>-0.74302540</td><td> 21.430602</td><td>58.87200</td><td> 2.499517</td><td>  4.595173</td><td>non_pulsar</td></tr>\n",
       "\t<tr><td>114.5078</td><td>53.90240</td><td>0.2011614</td><td>-0.02478884</td><td>  1.946488</td><td>13.38173</td><td>10.007967</td><td>134.238910</td><td>non_pulsar</td></tr>\n",
       "\t<tr><td> 57.0625</td><td>85.79734</td><td>1.4063910</td><td> 0.08951971</td><td>188.306020</td><td>64.71256</td><td>-1.597527</td><td>  1.429475</td><td>non_pulsar</td></tr>\n",
       "</tbody>\n",
       "</table>\n"
      ],
      "text/latex": [
       "A tibble: 17898 × 9\n",
       "\\begin{tabular}{lllllllll}\n",
       " mean\\_profile & deviation\\_profile & kurtosis\\_profile & skewness\\_profile & mean\\_curve & deviation\\_curve & kurtosis\\_curve & skewness\\_curve & class\\\\\n",
       " <dbl> & <dbl> & <dbl> & <dbl> & <dbl> & <dbl> & <dbl> & <dbl> & <fct>\\\\\n",
       "\\hline\n",
       "\t 140.5625 & 55.68378 & -0.2345714 & -0.6996484 & 3.199833 & 19.11043 &  7.975532 &  74.24222 & non\\_pulsar\\\\\n",
       "\t 102.5078 & 58.88243 &  0.4653182 & -0.5150879 & 1.677258 & 14.86015 & 10.576487 & 127.39358 & non\\_pulsar\\\\\n",
       "\t 103.0156 & 39.34165 &  0.3233284 &  1.0511644 & 3.121237 & 21.74467 &  7.735822 &  63.17191 & non\\_pulsar\\\\\n",
       "\t ⋮ & ⋮ & ⋮ & ⋮ & ⋮ & ⋮ & ⋮ & ⋮ & ⋮\\\\\n",
       "\t 119.3359 & 59.93594 & 0.1593631 & -0.74302540 &  21.430602 & 58.87200 &  2.499517 &   4.595173 & non\\_pulsar\\\\\n",
       "\t 114.5078 & 53.90240 & 0.2011614 & -0.02478884 &   1.946488 & 13.38173 & 10.007967 & 134.238910 & non\\_pulsar\\\\\n",
       "\t  57.0625 & 85.79734 & 1.4063910 &  0.08951971 & 188.306020 & 64.71256 & -1.597527 &   1.429475 & non\\_pulsar\\\\\n",
       "\\end{tabular}\n"
      ],
      "text/markdown": [
       "\n",
       "A tibble: 17898 × 9\n",
       "\n",
       "| mean_profile &lt;dbl&gt; | deviation_profile &lt;dbl&gt; | kurtosis_profile &lt;dbl&gt; | skewness_profile &lt;dbl&gt; | mean_curve &lt;dbl&gt; | deviation_curve &lt;dbl&gt; | kurtosis_curve &lt;dbl&gt; | skewness_curve &lt;dbl&gt; | class &lt;fct&gt; |\n",
       "|---|---|---|---|---|---|---|---|---|\n",
       "| 140.5625 | 55.68378 | -0.2345714 | -0.6996484 | 3.199833 | 19.11043 |  7.975532 |  74.24222 | non_pulsar |\n",
       "| 102.5078 | 58.88243 |  0.4653182 | -0.5150879 | 1.677258 | 14.86015 | 10.576487 | 127.39358 | non_pulsar |\n",
       "| 103.0156 | 39.34165 |  0.3233284 |  1.0511644 | 3.121237 | 21.74467 |  7.735822 |  63.17191 | non_pulsar |\n",
       "| ⋮ | ⋮ | ⋮ | ⋮ | ⋮ | ⋮ | ⋮ | ⋮ | ⋮ |\n",
       "| 119.3359 | 59.93594 | 0.1593631 | -0.74302540 |  21.430602 | 58.87200 |  2.499517 |   4.595173 | non_pulsar |\n",
       "| 114.5078 | 53.90240 | 0.2011614 | -0.02478884 |   1.946488 | 13.38173 | 10.007967 | 134.238910 | non_pulsar |\n",
       "|  57.0625 | 85.79734 | 1.4063910 |  0.08951971 | 188.306020 | 64.71256 | -1.597527 |   1.429475 | non_pulsar |\n",
       "\n"
      ],
      "text/plain": [
       "      mean_profile deviation_profile kurtosis_profile skewness_profile\n",
       "1     140.5625     55.68378          -0.2345714       -0.6996484      \n",
       "2     102.5078     58.88243           0.4653182       -0.5150879      \n",
       "3     103.0156     39.34165           0.3233284        1.0511644      \n",
       "⋮     ⋮            ⋮                 ⋮                ⋮               \n",
       "17896 119.3359     59.93594          0.1593631        -0.74302540     \n",
       "17897 114.5078     53.90240          0.2011614        -0.02478884     \n",
       "17898  57.0625     85.79734          1.4063910         0.08951971     \n",
       "      mean_curve deviation_curve kurtosis_curve skewness_curve class     \n",
       "1     3.199833   19.11043         7.975532       74.24222      non_pulsar\n",
       "2     1.677258   14.86015        10.576487      127.39358      non_pulsar\n",
       "3     3.121237   21.74467         7.735822       63.17191      non_pulsar\n",
       "⋮     ⋮          ⋮               ⋮              ⋮              ⋮         \n",
       "17896  21.430602 58.87200         2.499517        4.595173     non_pulsar\n",
       "17897   1.946488 13.38173        10.007967      134.238910     non_pulsar\n",
       "17898 188.306020 64.71256        -1.597527        1.429475     non_pulsar"
      ]
     },
     "metadata": {},
     "output_type": "display_data"
    }
   ],
   "source": [
    "pulsar_data<-pulsar_data|>\n",
    "    mutate(class=ifelse(class==1,\"pulsar\",\"non_pulsar\"))|>\n",
    "    mutate(class=as_factor(class))\n",
    "pulsar_data"
   ]
  },
  {
   "cell_type": "markdown",
   "id": "233e9728-3543-4133-baa7-82b27acb590f",
   "metadata": {},
   "source": [
    "## Summarizing the data in at least one table:\n",
    "Splitting the dataset into training and testing data"
   ]
  },
  {
   "cell_type": "code",
   "execution_count": 5,
   "id": "626002a7-6926-4226-a5c6-159ea9a02aa4",
   "metadata": {},
   "outputs": [],
   "source": [
    "set.seed(2024)\n",
    "\n",
    "pulsar_split<-initial_split(pulsar_data, prop = 0.75, strata = class)\n",
    "pulsar_train<-training(pulsar_split)\n",
    "pulsar_test<-testing(pulsar_split)"
   ]
  },
  {
   "cell_type": "markdown",
   "id": "c3e1b901-49a3-4e1e-956f-2d4adb704885",
   "metadata": {},
   "source": [
    "Determining how many rows have missing data"
   ]
  },
  {
   "cell_type": "code",
   "execution_count": 6,
   "id": "5377a36d-c563-4313-afcf-cd6fe04a9c8e",
   "metadata": {},
   "outputs": [
    {
     "data": {
      "text/html": [
       "0"
      ],
      "text/latex": [
       "0"
      ],
      "text/markdown": [
       "0"
      ],
      "text/plain": [
       "[1] 0"
      ]
     },
     "metadata": {},
     "output_type": "display_data"
    }
   ],
   "source": [
    "pulsar_train|>\n",
    "\tis.na()|>\n",
    "\tsum()"
   ]
  },
  {
   "cell_type": "markdown",
   "id": "d9cdf76c-3df6-404e-9260-ac87e1f55859",
   "metadata": {},
   "source": [
    "Getting the mean of all variables"
   ]
  },
  {
   "cell_type": "code",
   "execution_count": 7,
   "id": "fdedc271-47df-489f-8bf5-4f07b72fe0a2",
   "metadata": {},
   "outputs": [
    {
     "data": {
      "text/html": [
       "<table class=\"dataframe\">\n",
       "<caption>A tibble: 1 × 8</caption>\n",
       "<thead>\n",
       "\t<tr><th scope=col>mean_profile</th><th scope=col>deviation_profile</th><th scope=col>kurtosis_profile</th><th scope=col>skewness_profile</th><th scope=col>mean_curve</th><th scope=col>deviation_curve</th><th scope=col>kurtosis_curve</th><th scope=col>skewness_curve</th></tr>\n",
       "\t<tr><th scope=col>&lt;dbl&gt;</th><th scope=col>&lt;dbl&gt;</th><th scope=col>&lt;dbl&gt;</th><th scope=col>&lt;dbl&gt;</th><th scope=col>&lt;dbl&gt;</th><th scope=col>&lt;dbl&gt;</th><th scope=col>&lt;dbl&gt;</th><th scope=col>&lt;dbl&gt;</th></tr>\n",
       "</thead>\n",
       "<tbody>\n",
       "\t<tr><td>111.319</td><td>46.59561</td><td>0.4725106</td><td>1.754829</td><td>12.49007</td><td>26.29934</td><td>8.303455</td><td>104.7698</td></tr>\n",
       "</tbody>\n",
       "</table>\n"
      ],
      "text/latex": [
       "A tibble: 1 × 8\n",
       "\\begin{tabular}{llllllll}\n",
       " mean\\_profile & deviation\\_profile & kurtosis\\_profile & skewness\\_profile & mean\\_curve & deviation\\_curve & kurtosis\\_curve & skewness\\_curve\\\\\n",
       " <dbl> & <dbl> & <dbl> & <dbl> & <dbl> & <dbl> & <dbl> & <dbl>\\\\\n",
       "\\hline\n",
       "\t 111.319 & 46.59561 & 0.4725106 & 1.754829 & 12.49007 & 26.29934 & 8.303455 & 104.7698\\\\\n",
       "\\end{tabular}\n"
      ],
      "text/markdown": [
       "\n",
       "A tibble: 1 × 8\n",
       "\n",
       "| mean_profile &lt;dbl&gt; | deviation_profile &lt;dbl&gt; | kurtosis_profile &lt;dbl&gt; | skewness_profile &lt;dbl&gt; | mean_curve &lt;dbl&gt; | deviation_curve &lt;dbl&gt; | kurtosis_curve &lt;dbl&gt; | skewness_curve &lt;dbl&gt; |\n",
       "|---|---|---|---|---|---|---|---|\n",
       "| 111.319 | 46.59561 | 0.4725106 | 1.754829 | 12.49007 | 26.29934 | 8.303455 | 104.7698 |\n",
       "\n"
      ],
      "text/plain": [
       "  mean_profile deviation_profile kurtosis_profile skewness_profile mean_curve\n",
       "1 111.319      46.59561          0.4725106        1.754829         12.49007  \n",
       "  deviation_curve kurtosis_curve skewness_curve\n",
       "1 26.29934        8.303455       104.7698      "
      ]
     },
     "metadata": {},
     "output_type": "display_data"
    }
   ],
   "source": [
    "pulsar_train|>\n",
    "    select(-class)|>\n",
    "    map_df(mean)"
   ]
  },
  {
   "cell_type": "markdown",
   "id": "3a5f0232-68aa-4917-a1a5-e03ff19022ff",
   "metadata": {},
   "source": [
    "Finding the number of each value in `class` by using the functions `group_by()` and `summarize()` or `summary()`"
   ]
  },
  {
   "cell_type": "code",
   "execution_count": 8,
   "id": "5d071b8a-9534-4636-969b-9048b1f592c3",
   "metadata": {},
   "outputs": [
    {
     "data": {
      "text/html": [
       "<table class=\"dataframe\">\n",
       "<caption>A tibble: 2 × 2</caption>\n",
       "<thead>\n",
       "\t<tr><th scope=col>class</th><th scope=col>n</th></tr>\n",
       "\t<tr><th scope=col>&lt;fct&gt;</th><th scope=col>&lt;int&gt;</th></tr>\n",
       "</thead>\n",
       "<tbody>\n",
       "\t<tr><td>non_pulsar</td><td>12197</td></tr>\n",
       "\t<tr><td>pulsar    </td><td> 1226</td></tr>\n",
       "</tbody>\n",
       "</table>\n"
      ],
      "text/latex": [
       "A tibble: 2 × 2\n",
       "\\begin{tabular}{ll}\n",
       " class & n\\\\\n",
       " <fct> & <int>\\\\\n",
       "\\hline\n",
       "\t non\\_pulsar & 12197\\\\\n",
       "\t pulsar     &  1226\\\\\n",
       "\\end{tabular}\n"
      ],
      "text/markdown": [
       "\n",
       "A tibble: 2 × 2\n",
       "\n",
       "| class &lt;fct&gt; | n &lt;int&gt; |\n",
       "|---|---|\n",
       "| non_pulsar | 12197 |\n",
       "| pulsar     |  1226 |\n",
       "\n"
      ],
      "text/plain": [
       "  class      n    \n",
       "1 non_pulsar 12197\n",
       "2 pulsar      1226"
      ]
     },
     "metadata": {},
     "output_type": "display_data"
    },
    {
     "data": {
      "text/plain": [
       "  mean_profile    deviation_profile kurtosis_profile  skewness_profile \n",
       " Min.   :  6.18   Min.   :24.77     Min.   :-1.8760   Min.   :-1.7647  \n",
       " 1st Qu.:101.12   1st Qu.:42.47     1st Qu.: 0.0230   1st Qu.:-0.1894  \n",
       " Median :115.30   Median :46.99     Median : 0.2194   Median : 0.1905  \n",
       " Mean   :111.32   Mean   :46.60     Mean   : 0.4725   Mean   : 1.7548  \n",
       " 3rd Qu.:127.33   3rd Qu.:51.06     3rd Qu.: 0.4721   3rd Qu.: 0.9184  \n",
       " Max.   :192.62   Max.   :98.78     Max.   : 8.0695   Max.   :68.1016  \n",
       "   mean_curve       deviation_curve  kurtosis_curve   skewness_curve    \n",
       " Min.   :  0.2132   Min.   :  7.37   Min.   :-2.722   Min.   :  -1.977  \n",
       " 1st Qu.:  1.9289   1st Qu.: 14.43   1st Qu.: 5.742   1st Qu.:  34.477  \n",
       " Median :  2.7985   Median : 18.49   Median : 8.429   Median :  83.013  \n",
       " Mean   : 12.4901   Mean   : 26.30   Mean   : 8.303   Mean   : 104.770  \n",
       " 3rd Qu.:  5.4824   3rd Qu.: 28.46   3rd Qu.:10.682   3rd Qu.: 139.358  \n",
       " Max.   :223.3921   Max.   :110.64   Max.   :34.540   Max.   :1191.001  \n",
       "        class      \n",
       " non_pulsar:12197  \n",
       " pulsar    : 1226  \n",
       "                   \n",
       "                   \n",
       "                   \n",
       "                   "
      ]
     },
     "metadata": {},
     "output_type": "display_data"
    }
   ],
   "source": [
    "pulsar_train|>\n",
    "    group_by(class)|>\n",
    "\tsummarize(n=n())\n",
    "pulsar_train|>\n",
    "    summary()"
   ]
  },
  {
   "cell_type": "markdown",
   "id": "34656224-c47f-4441-892b-8a22dcb7187b",
   "metadata": {},
   "source": [
    "## Visualizing the data with at least one plot:\n",
    "We will use 4 predictor variables for the plot, either the integrated pulse profile or the DM-SNR curve with the function `ggpairs()` from `GGally` library to plot variables against itself with `class` colored"
   ]
  },
  {
   "cell_type": "code",
   "execution_count": null,
   "id": "655aa2a4-5998-4d4e-9bef-de3701340e28",
   "metadata": {},
   "outputs": [],
   "source": [
    "options(repr.plot.width = 15, repr.plot.height = 15)\n",
    "\n",
    "pulsar_train_plot <- pulsar_train|>\n",
    "                     select(!mean_curve:skewness_curve) |>\n",
    "                     ggpairs(aes(color = class, alpha = 0.5),\n",
    "                         lower = list(combo = wrap(\"facethist\", binwidth = 1))) +\n",
    "                     labs(title = \"Integrated Profile Variables Plotted Against Itself\") +\n",
    "                     theme(text = element_text(size = 15))\n",
    "pulsar_train_plot"
   ]
  },
  {
   "cell_type": "code",
   "execution_count": null,
   "id": "0a69d844-6b7c-4d4a-9e55-2ce551e2d637",
   "metadata": {},
   "outputs": [],
   "source": [
    "options(repr.plot.width = 15, repr.plot.height = 15)\n",
    "\n",
    "pulsar_train_plot_2 <- pulsar_train|>\n",
    "                     select(!mean_profile:skewness_profile) |>\n",
    "                     ggpairs(aes(color = class, alpha = 0.5),\n",
    "                         lower = list(combo = wrap(\"facethist\", binwidth = 1))) +\n",
    "                     labs(title = \"DM-SNR curve Variables Plotted Against Itself\") +\n",
    "                     theme(text = element_text(size = 15))\n",
    "pulsar_train_plot_2"
   ]
  },
  {
   "cell_type": "markdown",
   "id": "cba409b5-254c-4803-95fb-f87714052581",
   "metadata": {},
   "source": [
    "By looking at the two different plots created above, the integrated profile plot has better seperation of the variables than the DM-SNR curve plot. Therefore, from this point on we will be using the integrated profile variable as the predictor variable.\n",
    "Next we need to scale the predictor variable."
   ]
  },
  {
   "cell_type": "code",
   "execution_count": null,
   "id": "0e8b7d63-4d74-47d2-9038-401bb7015a21",
   "metadata": {},
   "outputs": [],
   "source": [
    "pulsar_recipe<-recipe(class~mean_profile+deviation_profile+kurtosis_profile+skewness_profile,data=pulsar_train)|>\n",
    "                    step_center(all_predictors())|>\n",
    "                    step_scale(all_predictors())\n",
    "pulsar_train_scaled<-pulsar_recipe|>\n",
    "                        prep()|>\n",
    "                        bake(pulsar_train)\n",
    "pulsar_train_scaled"
   ]
  },
  {
   "cell_type": "markdown",
   "id": "b696954d-07a4-435d-aa44-6e234112a724",
   "metadata": {},
   "source": [
    "Lastly, plotting the now scaled predictor variables against itself."
   ]
  },
  {
   "cell_type": "code",
   "execution_count": null,
   "id": "e1e01162-9f38-4d12-a422-09d56e3d8542",
   "metadata": {},
   "outputs": [],
   "source": [
    "options(repr.plot.width=15, repr.plot.length=15)\n",
    "\n",
    "pulsar_scaled_plot<-pulsar_train_scaled|>\n",
    "                        ggpairs(aes(color=class, alpha=0.5),\n",
    "                            lower=list(combo=wrap(\"facethist\", binwidth=1)))+\n",
    "                        labs(title= \"Integrated Profile Variables (Standardized) Plotted Against Itself\")+\n",
    "                        theme(text=element_text(size=20))\n",
    "pulsar_scaled_plot"
   ]
  },
  {
   "cell_type": "markdown",
   "id": "1283d95a-e322-469f-af44-40b04264a00a",
   "metadata": {},
   "source": [
    "## Methods\n",
    "We will use the K-nearest neighbor classification algorithm for the predictor model with `mean_profile`, `deviation_profile`, `kurtosis_profile`, and `skewness_profile` as our predictor variables to predict the best K value. We will use scatter plotting colored by class (`pulsar` or `non_pulsar`) for each observation.\n",
    "## Expected Outcomes and Significance:\n",
    "We expect to be able to accurately and precisely determine if an observed signal is coming from a pulsar or non pulsar star using the K-nearest neighbor classification algorithm to find the best K value. We hope that in doing so we can make an impact in the fields of astronomy and their astrological research. This could lead to further questions about understanding the physics driving pulsar behavior and how pulsars form and evolve within galaxies.\n",
    "## References:\n",
    "R. J. Lyon, HTRU2, DOI: 10.6084/m9.figshare.3080389.v1."
   ]
  },
  {
   "cell_type": "markdown",
   "id": "09333f32-7d8d-4311-b5a2-89ad0df03e78",
   "metadata": {},
   "source": [
    "\"What Are Pulsars?\" Space.com, 24 Jan. 2023, www.space.com/32661-pulsars.html."
   ]
  },
  {
   "cell_type": "code",
   "execution_count": null,
   "id": "883b5f88-20e6-4fdc-917d-07869ae628f6",
   "metadata": {},
   "outputs": [],
   "source": []
  }
 ],
 "metadata": {
  "kernelspec": {
   "display_name": "R",
   "language": "R",
   "name": "ir"
  },
  "language_info": {
   "codemirror_mode": "r",
   "file_extension": ".r",
   "mimetype": "text/x-r-source",
   "name": "R",
   "pygments_lexer": "r",
   "version": "4.3.1"
  }
 },
 "nbformat": 4,
 "nbformat_minor": 5
}
